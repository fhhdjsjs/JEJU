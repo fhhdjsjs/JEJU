{
 "cells": [
  {
   "cell_type": "code",
   "execution_count": 1,
   "id": "23b1e48b",
   "metadata": {},
   "outputs": [],
   "source": [
    "import pandas as pd"
   ]
  },
  {
   "cell_type": "code",
   "execution_count": 2,
   "id": "b7e46273",
   "metadata": {},
   "outputs": [],
   "source": [
    "df_wea = pd.read_csv(\"weather.csv\")\n",
    "df_pro = pd.read_csv(\"label.csv\")"
   ]
  },
  {
   "cell_type": "code",
   "execution_count": 3,
   "id": "79b168ca",
   "metadata": {},
   "outputs": [
    {
     "name": "stdout",
     "output_type": "stream",
     "text": [
      "<class 'pandas.core.frame.DataFrame'>\n",
      "RangeIndex: 7 entries, 0 to 6\n",
      "Data columns (total 2 columns):\n",
      " #   Column    Non-Null Count  Dtype  \n",
      "---  ------    --------------  -----  \n",
      " 0   연도        7 non-null      int64  \n",
      " 1   노지온주(조생)  7 non-null      float64\n",
      "dtypes: float64(1), int64(1)\n",
      "memory usage: 240.0 bytes\n"
     ]
    }
   ],
   "source": [
    "df_pro.info()"
   ]
  },
  {
   "cell_type": "code",
   "execution_count": 4,
   "id": "a751066f",
   "metadata": {},
   "outputs": [
    {
     "name": "stdout",
     "output_type": "stream",
     "text": [
      "<class 'pandas.core.frame.DataFrame'>\n",
      "RangeIndex: 1498 entries, 0 to 1497\n",
      "Data columns (total 6 columns):\n",
      " #   Column         Non-Null Count  Dtype  \n",
      "---  ------         --------------  -----  \n",
      " 0   Date           1498 non-null   object \n",
      " 1   Tem_mean       1498 non-null   float64\n",
      " 2   Wspeed_mean    1498 non-null   float64\n",
      " 3   Humid_mean     1498 non-null   float64\n",
      " 4   Sunshine_mean  1498 non-null   float64\n",
      " 5   tem_diff       1498 non-null   float64\n",
      "dtypes: float64(5), object(1)\n",
      "memory usage: 70.3+ KB\n"
     ]
    }
   ],
   "source": [
    "df_wea.info()"
   ]
  },
  {
   "cell_type": "markdown",
   "id": "f514c287",
   "metadata": {},
   "source": [
    "## 발아기: 4월, 비대기: 8~10월"
   ]
  },
  {
   "cell_type": "code",
   "execution_count": 5,
   "id": "52102d6d",
   "metadata": {},
   "outputs": [],
   "source": [
    "df_wea['Date'] = pd.to_datetime(df_wea['Date'])"
   ]
  },
  {
   "cell_type": "code",
   "execution_count": 6,
   "id": "4c40ce4f",
   "metadata": {},
   "outputs": [],
   "source": [
    "df_wea['year'] = df_wea['Date'].dt.year\n",
    "df_wea['month'] = df_wea['Date'].dt.month"
   ]
  },
  {
   "cell_type": "code",
   "execution_count": 7,
   "id": "35174793",
   "metadata": {},
   "outputs": [],
   "source": [
    "df_enlarge = df_wea[df_wea['month'] == 4].groupby('year').agg({\n",
    "        'Tem_mean': 'mean',\n",
    "        'Wspeed_mean': 'mean',\n",
    "        'Humid_mean': 'mean',\n",
    "        'Sunshine_mean':'mean'\n",
    "    }).reset_index()\n",
    "\n",
    "df_enlarge = df_enlarge.rename(columns={\n",
    "    'Tem_mean': 'Tem_mean_enlarge',\n",
    "    'Wspeed_mean': 'Wspeed_mean_enlarge',\n",
    "    'Humid_mean': 'Humid_mean_enlarge',\n",
    "    'Sunshine_mean':'Sunshine_mean_enlarge'\n",
    "})"
   ]
  },
  {
   "cell_type": "code",
   "execution_count": 8,
   "id": "dca6ea89",
   "metadata": {},
   "outputs": [],
   "source": [
    "df_bulk = df_wea[df_wea['month'].between(8,10)] \\\n",
    "    .groupby('year').agg({\n",
    "        'Tem_mean': 'mean',\n",
    "        'Wspeed_mean': 'mean',\n",
    "        'Humid_mean': 'mean',\n",
    "        'Sunshine_mean':'mean'\n",
    "    }).reset_index()\n",
    "\n",
    "df_bulk = df_bulk.rename(columns={\n",
    "    'Tem_mean': 'Tem_mean_bulk',\n",
    "    'Wspeed_mean': 'Wspeed_mean_bulk',\n",
    "    'Humid_mean': 'Humid_mean_bulk',\n",
    "    'Sunshine_mean':'Sunshine_mean_bulk'\n",
    "})"
   ]
  },
  {
   "cell_type": "code",
   "execution_count": 9,
   "id": "7f456a8b",
   "metadata": {},
   "outputs": [
    {
     "data": {
      "text/html": [
       "<div>\n",
       "<style scoped>\n",
       "    .dataframe tbody tr th:only-of-type {\n",
       "        vertical-align: middle;\n",
       "    }\n",
       "\n",
       "    .dataframe tbody tr th {\n",
       "        vertical-align: top;\n",
       "    }\n",
       "\n",
       "    .dataframe thead th {\n",
       "        text-align: right;\n",
       "    }\n",
       "</style>\n",
       "<table border=\"1\" class=\"dataframe\">\n",
       "  <thead>\n",
       "    <tr style=\"text-align: right;\">\n",
       "      <th></th>\n",
       "      <th>year</th>\n",
       "      <th>Tem_mean_enlarge</th>\n",
       "      <th>Wspeed_mean_enlarge</th>\n",
       "      <th>Humid_mean_enlarge</th>\n",
       "      <th>Sunshine_mean_enlarge</th>\n",
       "    </tr>\n",
       "  </thead>\n",
       "  <tbody>\n",
       "    <tr>\n",
       "      <th>0</th>\n",
       "      <td>2015</td>\n",
       "      <td>15.003333</td>\n",
       "      <td>2.373333</td>\n",
       "      <td>75.223333</td>\n",
       "      <td>5.470000</td>\n",
       "    </tr>\n",
       "    <tr>\n",
       "      <th>1</th>\n",
       "      <td>2016</td>\n",
       "      <td>15.796667</td>\n",
       "      <td>1.816667</td>\n",
       "      <td>75.430000</td>\n",
       "      <td>6.020000</td>\n",
       "    </tr>\n",
       "    <tr>\n",
       "      <th>2</th>\n",
       "      <td>2017</td>\n",
       "      <td>15.696667</td>\n",
       "      <td>1.760000</td>\n",
       "      <td>70.886667</td>\n",
       "      <td>6.033333</td>\n",
       "    </tr>\n",
       "    <tr>\n",
       "      <th>3</th>\n",
       "      <td>2018</td>\n",
       "      <td>15.973333</td>\n",
       "      <td>1.643333</td>\n",
       "      <td>77.046667</td>\n",
       "      <td>6.310000</td>\n",
       "    </tr>\n",
       "    <tr>\n",
       "      <th>4</th>\n",
       "      <td>2019</td>\n",
       "      <td>14.956667</td>\n",
       "      <td>1.690000</td>\n",
       "      <td>75.356667</td>\n",
       "      <td>6.686667</td>\n",
       "    </tr>\n",
       "    <tr>\n",
       "      <th>5</th>\n",
       "      <td>2020</td>\n",
       "      <td>13.823333</td>\n",
       "      <td>1.686667</td>\n",
       "      <td>64.720000</td>\n",
       "      <td>8.843333</td>\n",
       "    </tr>\n",
       "    <tr>\n",
       "      <th>6</th>\n",
       "      <td>2021</td>\n",
       "      <td>15.983333</td>\n",
       "      <td>2.043333</td>\n",
       "      <td>67.930000</td>\n",
       "      <td>7.663333</td>\n",
       "    </tr>\n",
       "  </tbody>\n",
       "</table>\n",
       "</div>"
      ],
      "text/plain": [
       "   year  Tem_mean_enlarge  Wspeed_mean_enlarge  Humid_mean_enlarge  \\\n",
       "0  2015         15.003333             2.373333           75.223333   \n",
       "1  2016         15.796667             1.816667           75.430000   \n",
       "2  2017         15.696667             1.760000           70.886667   \n",
       "3  2018         15.973333             1.643333           77.046667   \n",
       "4  2019         14.956667             1.690000           75.356667   \n",
       "5  2020         13.823333             1.686667           64.720000   \n",
       "6  2021         15.983333             2.043333           67.930000   \n",
       "\n",
       "   Sunshine_mean_enlarge  \n",
       "0               5.470000  \n",
       "1               6.020000  \n",
       "2               6.033333  \n",
       "3               6.310000  \n",
       "4               6.686667  \n",
       "5               8.843333  \n",
       "6               7.663333  "
      ]
     },
     "execution_count": 9,
     "metadata": {},
     "output_type": "execute_result"
    }
   ],
   "source": [
    "df_enlarge"
   ]
  },
  {
   "cell_type": "code",
   "execution_count": 10,
   "id": "cf1e9643",
   "metadata": {},
   "outputs": [],
   "source": [
    "df_weather = pd.merge(df_enlarge,df_bulk)"
   ]
  },
  {
   "cell_type": "code",
   "execution_count": 11,
   "id": "dd37989a",
   "metadata": {},
   "outputs": [
    {
     "name": "stdout",
     "output_type": "stream",
     "text": [
      "     연도      노지온주(조생)  Tem_mean_enlarge  Wspeed_mean_enlarge  \\\n",
      "0  2015  21041.733333         15.003333             2.373333   \n",
      "1  2016  16911.266667         15.796667             1.816667   \n",
      "2  2017  16305.866667         15.696667             1.760000   \n",
      "3  2018  16972.400000         15.973333             1.643333   \n",
      "4  2019  20525.466667         14.956667             1.690000   \n",
      "\n",
      "   Humid_mean_enlarge  Sunshine_mean_enlarge  Tem_mean_bulk  Wspeed_mean_bulk  \\\n",
      "0           75.223333               5.470000      22.645652          2.211957   \n",
      "1           75.430000               6.020000      23.957609          1.879348   \n",
      "2           70.886667               6.033333      24.104348          2.066304   \n",
      "3           77.046667               6.310000      23.056522          2.018478   \n",
      "4           75.356667               6.686667      23.757609          1.989130   \n",
      "\n",
      "   Humid_mean_bulk  Sunshine_mean_bulk  \n",
      "0        72.175000            7.372826  \n",
      "1        80.275000            5.506522  \n",
      "2        78.377174            6.232609  \n",
      "3        81.836957            6.556522  \n",
      "4        87.235870            6.398913  \n"
     ]
    }
   ],
   "source": [
    "df_final = df_pro.merge(df_weather, left_on='연도', right_on='year', how='left')\n",
    "\n",
    "df_final = df_final.drop(columns=['year'])\n",
    "\n",
    "print(df_final.head())"
   ]
  },
  {
   "cell_type": "code",
   "execution_count": 12,
   "id": "807a8b04",
   "metadata": {},
   "outputs": [],
   "source": [
    "df_final.to_csv(\"final.csv\",index=False,encoding='cp949')"
   ]
  },
  {
   "cell_type": "code",
   "execution_count": 13,
   "id": "2e3ace4a",
   "metadata": {},
   "outputs": [
    {
     "data": {
      "text/html": [
       "<div>\n",
       "<style scoped>\n",
       "    .dataframe tbody tr th:only-of-type {\n",
       "        vertical-align: middle;\n",
       "    }\n",
       "\n",
       "    .dataframe tbody tr th {\n",
       "        vertical-align: top;\n",
       "    }\n",
       "\n",
       "    .dataframe thead th {\n",
       "        text-align: right;\n",
       "    }\n",
       "</style>\n",
       "<table border=\"1\" class=\"dataframe\">\n",
       "  <thead>\n",
       "    <tr style=\"text-align: right;\">\n",
       "      <th></th>\n",
       "      <th>연도</th>\n",
       "      <th>노지온주(조생)</th>\n",
       "      <th>Tem_mean_enlarge</th>\n",
       "      <th>Wspeed_mean_enlarge</th>\n",
       "      <th>Humid_mean_enlarge</th>\n",
       "      <th>Sunshine_mean_enlarge</th>\n",
       "      <th>Tem_mean_bulk</th>\n",
       "      <th>Wspeed_mean_bulk</th>\n",
       "      <th>Humid_mean_bulk</th>\n",
       "      <th>Sunshine_mean_bulk</th>\n",
       "    </tr>\n",
       "  </thead>\n",
       "  <tbody>\n",
       "    <tr>\n",
       "      <th>0</th>\n",
       "      <td>2015</td>\n",
       "      <td>21041.733333</td>\n",
       "      <td>15.003333</td>\n",
       "      <td>2.373333</td>\n",
       "      <td>75.223333</td>\n",
       "      <td>5.470000</td>\n",
       "      <td>22.645652</td>\n",
       "      <td>2.211957</td>\n",
       "      <td>72.175000</td>\n",
       "      <td>7.372826</td>\n",
       "    </tr>\n",
       "    <tr>\n",
       "      <th>1</th>\n",
       "      <td>2016</td>\n",
       "      <td>16911.266667</td>\n",
       "      <td>15.796667</td>\n",
       "      <td>1.816667</td>\n",
       "      <td>75.430000</td>\n",
       "      <td>6.020000</td>\n",
       "      <td>23.957609</td>\n",
       "      <td>1.879348</td>\n",
       "      <td>80.275000</td>\n",
       "      <td>5.506522</td>\n",
       "    </tr>\n",
       "    <tr>\n",
       "      <th>2</th>\n",
       "      <td>2017</td>\n",
       "      <td>16305.866667</td>\n",
       "      <td>15.696667</td>\n",
       "      <td>1.760000</td>\n",
       "      <td>70.886667</td>\n",
       "      <td>6.033333</td>\n",
       "      <td>24.104348</td>\n",
       "      <td>2.066304</td>\n",
       "      <td>78.377174</td>\n",
       "      <td>6.232609</td>\n",
       "    </tr>\n",
       "    <tr>\n",
       "      <th>3</th>\n",
       "      <td>2018</td>\n",
       "      <td>16972.400000</td>\n",
       "      <td>15.973333</td>\n",
       "      <td>1.643333</td>\n",
       "      <td>77.046667</td>\n",
       "      <td>6.310000</td>\n",
       "      <td>23.056522</td>\n",
       "      <td>2.018478</td>\n",
       "      <td>81.836957</td>\n",
       "      <td>6.556522</td>\n",
       "    </tr>\n",
       "    <tr>\n",
       "      <th>4</th>\n",
       "      <td>2019</td>\n",
       "      <td>20525.466667</td>\n",
       "      <td>14.956667</td>\n",
       "      <td>1.690000</td>\n",
       "      <td>75.356667</td>\n",
       "      <td>6.686667</td>\n",
       "      <td>23.757609</td>\n",
       "      <td>1.989130</td>\n",
       "      <td>87.235870</td>\n",
       "      <td>6.398913</td>\n",
       "    </tr>\n",
       "    <tr>\n",
       "      <th>5</th>\n",
       "      <td>2020</td>\n",
       "      <td>20260.066667</td>\n",
       "      <td>13.823333</td>\n",
       "      <td>1.686667</td>\n",
       "      <td>64.720000</td>\n",
       "      <td>8.843333</td>\n",
       "      <td>22.643478</td>\n",
       "      <td>1.876087</td>\n",
       "      <td>80.552174</td>\n",
       "      <td>6.270236</td>\n",
       "    </tr>\n",
       "    <tr>\n",
       "      <th>6</th>\n",
       "      <td>2021</td>\n",
       "      <td>20087.533333</td>\n",
       "      <td>15.983333</td>\n",
       "      <td>2.043333</td>\n",
       "      <td>67.930000</td>\n",
       "      <td>7.663333</td>\n",
       "      <td>23.625000</td>\n",
       "      <td>1.896739</td>\n",
       "      <td>82.252174</td>\n",
       "      <td>6.280435</td>\n",
       "    </tr>\n",
       "  </tbody>\n",
       "</table>\n",
       "</div>"
      ],
      "text/plain": [
       "     연도      노지온주(조생)  Tem_mean_enlarge  Wspeed_mean_enlarge  \\\n",
       "0  2015  21041.733333         15.003333             2.373333   \n",
       "1  2016  16911.266667         15.796667             1.816667   \n",
       "2  2017  16305.866667         15.696667             1.760000   \n",
       "3  2018  16972.400000         15.973333             1.643333   \n",
       "4  2019  20525.466667         14.956667             1.690000   \n",
       "5  2020  20260.066667         13.823333             1.686667   \n",
       "6  2021  20087.533333         15.983333             2.043333   \n",
       "\n",
       "   Humid_mean_enlarge  Sunshine_mean_enlarge  Tem_mean_bulk  Wspeed_mean_bulk  \\\n",
       "0           75.223333               5.470000      22.645652          2.211957   \n",
       "1           75.430000               6.020000      23.957609          1.879348   \n",
       "2           70.886667               6.033333      24.104348          2.066304   \n",
       "3           77.046667               6.310000      23.056522          2.018478   \n",
       "4           75.356667               6.686667      23.757609          1.989130   \n",
       "5           64.720000               8.843333      22.643478          1.876087   \n",
       "6           67.930000               7.663333      23.625000          1.896739   \n",
       "\n",
       "   Humid_mean_bulk  Sunshine_mean_bulk  \n",
       "0        72.175000            7.372826  \n",
       "1        80.275000            5.506522  \n",
       "2        78.377174            6.232609  \n",
       "3        81.836957            6.556522  \n",
       "4        87.235870            6.398913  \n",
       "5        80.552174            6.270236  \n",
       "6        82.252174            6.280435  "
      ]
     },
     "execution_count": 13,
     "metadata": {},
     "output_type": "execute_result"
    }
   ],
   "source": [
    "df_final"
   ]
  }
 ],
 "metadata": {
  "kernelspec": {
   "display_name": "Python 3",
   "language": "python",
   "name": "python3"
  },
  "language_info": {
   "codemirror_mode": {
    "name": "ipython",
    "version": 3
   },
   "file_extension": ".py",
   "mimetype": "text/x-python",
   "name": "python",
   "nbconvert_exporter": "python",
   "pygments_lexer": "ipython3",
   "version": "3.9.21"
  }
 },
 "nbformat": 4,
 "nbformat_minor": 5
}
