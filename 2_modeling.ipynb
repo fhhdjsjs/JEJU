{
 "cells": [
  {
   "cell_type": "code",
   "execution_count": 1,
   "id": "1de11994",
   "metadata": {},
   "outputs": [],
   "source": [
    "import pandas as pd\n",
    "import numpy as np\n",
    "from sklearn.model_selection import train_test_split\n",
    "from sklearn.linear_model import LinearRegression\n",
    "from sklearn.tree import DecisionTreeRegressor\n",
    "from sklearn.ensemble import RandomForestRegressor\n",
    "from xgboost import XGBRegressor,plot_importance\n",
    "from sklearn.metrics import mean_squared_error, r2_score,mean_absolute_percentage_error,mean_absolute_error\n",
    "import matplotlib.pyplot as plt\n",
    "import seaborn as sns\n",
    "import statsmodels.api as sm\n",
    "\n",
    "import matplotlib.pyplot as plt\n",
    "import matplotlib\n",
    "import platform\n",
    "\n",
    "matplotlib.rcParams['axes.unicode_minus'] = False\n",
    "plt.rcParams['font.family'] = 'Malgun Gothic'\n"
   ]
  },
  {
   "cell_type": "code",
   "execution_count": 2,
   "id": "86408821",
   "metadata": {},
   "outputs": [],
   "source": [
    "from sklearn.linear_model import LinearRegression, Ridge, Lasso\n",
    "from sklearn.tree import DecisionTreeRegressor\n",
    "from sklearn.ensemble import RandomForestRegressor\n",
    "from xgboost import XGBRegressor\n",
    "\n",
    "models = {\n",
    "    \"Linear Regression\": LinearRegression(),\n",
    "    \"Decision Tree\": DecisionTreeRegressor(random_state=250702, max_depth=5),\n",
    "    \"Random Forest\": RandomForestRegressor(random_state=250702),\n",
    "    \"XGBoost\": XGBRegressor(random_state=250702)\n",
    "}\n"
   ]
  },
  {
   "cell_type": "code",
   "execution_count": 3,
   "id": "ad065910",
   "metadata": {},
   "outputs": [],
   "source": [
    "df = pd.read_csv(\"final.csv\",encoding='cp949')"
   ]
  },
  {
   "cell_type": "code",
   "execution_count": 4,
   "id": "84962858",
   "metadata": {},
   "outputs": [
    {
     "data": {
      "text/plain": [
       "Index(['연도', '노지온주(조생)', 'Tem_mean_enlarge', 'Wspeed_mean_enlarge',\n",
       "       'Humid_mean_enlarge', 'Sunshine_mean_enlarge', 'Tem_mean_bulk',\n",
       "       'Wspeed_mean_bulk', 'Humid_mean_bulk', 'Sunshine_mean_bulk'],\n",
       "      dtype='object')"
      ]
     },
     "execution_count": 4,
     "metadata": {},
     "output_type": "execute_result"
    }
   ],
   "source": [
    "df.columns"
   ]
  },
  {
   "cell_type": "code",
   "execution_count": 5,
   "id": "a7149d80",
   "metadata": {},
   "outputs": [
    {
     "data": {
      "text/html": [
       "<div>\n",
       "<style scoped>\n",
       "    .dataframe tbody tr th:only-of-type {\n",
       "        vertical-align: middle;\n",
       "    }\n",
       "\n",
       "    .dataframe tbody tr th {\n",
       "        vertical-align: top;\n",
       "    }\n",
       "\n",
       "    .dataframe thead th {\n",
       "        text-align: right;\n",
       "    }\n",
       "</style>\n",
       "<table border=\"1\" class=\"dataframe\">\n",
       "  <thead>\n",
       "    <tr style=\"text-align: right;\">\n",
       "      <th></th>\n",
       "      <th>연도</th>\n",
       "      <th>노지온주(조생)</th>\n",
       "      <th>Tem_mean_enlarge</th>\n",
       "      <th>Wspeed_mean_enlarge</th>\n",
       "      <th>Humid_mean_enlarge</th>\n",
       "      <th>Sunshine_mean_enlarge</th>\n",
       "      <th>Tem_mean_bulk</th>\n",
       "      <th>Wspeed_mean_bulk</th>\n",
       "      <th>Humid_mean_bulk</th>\n",
       "      <th>Sunshine_mean_bulk</th>\n",
       "    </tr>\n",
       "  </thead>\n",
       "  <tbody>\n",
       "    <tr>\n",
       "      <th>0</th>\n",
       "      <td>2015</td>\n",
       "      <td>21041.733333</td>\n",
       "      <td>15.003333</td>\n",
       "      <td>2.373333</td>\n",
       "      <td>75.223333</td>\n",
       "      <td>5.470000</td>\n",
       "      <td>22.645652</td>\n",
       "      <td>2.211957</td>\n",
       "      <td>72.175000</td>\n",
       "      <td>7.372826</td>\n",
       "    </tr>\n",
       "    <tr>\n",
       "      <th>1</th>\n",
       "      <td>2016</td>\n",
       "      <td>16911.266667</td>\n",
       "      <td>15.796667</td>\n",
       "      <td>1.816667</td>\n",
       "      <td>75.430000</td>\n",
       "      <td>6.020000</td>\n",
       "      <td>23.957609</td>\n",
       "      <td>1.879348</td>\n",
       "      <td>80.275000</td>\n",
       "      <td>5.506522</td>\n",
       "    </tr>\n",
       "    <tr>\n",
       "      <th>2</th>\n",
       "      <td>2017</td>\n",
       "      <td>16305.866667</td>\n",
       "      <td>15.696667</td>\n",
       "      <td>1.760000</td>\n",
       "      <td>70.886667</td>\n",
       "      <td>6.033333</td>\n",
       "      <td>24.104348</td>\n",
       "      <td>2.066304</td>\n",
       "      <td>78.377174</td>\n",
       "      <td>6.232609</td>\n",
       "    </tr>\n",
       "    <tr>\n",
       "      <th>3</th>\n",
       "      <td>2018</td>\n",
       "      <td>16972.400000</td>\n",
       "      <td>15.973333</td>\n",
       "      <td>1.643333</td>\n",
       "      <td>77.046667</td>\n",
       "      <td>6.310000</td>\n",
       "      <td>23.056522</td>\n",
       "      <td>2.018478</td>\n",
       "      <td>81.836957</td>\n",
       "      <td>6.556522</td>\n",
       "    </tr>\n",
       "    <tr>\n",
       "      <th>4</th>\n",
       "      <td>2019</td>\n",
       "      <td>20525.466667</td>\n",
       "      <td>14.956667</td>\n",
       "      <td>1.690000</td>\n",
       "      <td>75.356667</td>\n",
       "      <td>6.686667</td>\n",
       "      <td>23.757609</td>\n",
       "      <td>1.989130</td>\n",
       "      <td>87.235870</td>\n",
       "      <td>6.398913</td>\n",
       "    </tr>\n",
       "    <tr>\n",
       "      <th>5</th>\n",
       "      <td>2020</td>\n",
       "      <td>20260.066667</td>\n",
       "      <td>13.823333</td>\n",
       "      <td>1.686667</td>\n",
       "      <td>64.720000</td>\n",
       "      <td>8.843333</td>\n",
       "      <td>22.643478</td>\n",
       "      <td>1.876087</td>\n",
       "      <td>80.552174</td>\n",
       "      <td>6.270236</td>\n",
       "    </tr>\n",
       "    <tr>\n",
       "      <th>6</th>\n",
       "      <td>2021</td>\n",
       "      <td>20087.533333</td>\n",
       "      <td>15.983333</td>\n",
       "      <td>2.043333</td>\n",
       "      <td>67.930000</td>\n",
       "      <td>7.663333</td>\n",
       "      <td>23.625000</td>\n",
       "      <td>1.896739</td>\n",
       "      <td>82.252174</td>\n",
       "      <td>6.280435</td>\n",
       "    </tr>\n",
       "  </tbody>\n",
       "</table>\n",
       "</div>"
      ],
      "text/plain": [
       "     연도      노지온주(조생)  Tem_mean_enlarge  Wspeed_mean_enlarge  \\\n",
       "0  2015  21041.733333         15.003333             2.373333   \n",
       "1  2016  16911.266667         15.796667             1.816667   \n",
       "2  2017  16305.866667         15.696667             1.760000   \n",
       "3  2018  16972.400000         15.973333             1.643333   \n",
       "4  2019  20525.466667         14.956667             1.690000   \n",
       "5  2020  20260.066667         13.823333             1.686667   \n",
       "6  2021  20087.533333         15.983333             2.043333   \n",
       "\n",
       "   Humid_mean_enlarge  Sunshine_mean_enlarge  Tem_mean_bulk  Wspeed_mean_bulk  \\\n",
       "0           75.223333               5.470000      22.645652          2.211957   \n",
       "1           75.430000               6.020000      23.957609          1.879348   \n",
       "2           70.886667               6.033333      24.104348          2.066304   \n",
       "3           77.046667               6.310000      23.056522          2.018478   \n",
       "4           75.356667               6.686667      23.757609          1.989130   \n",
       "5           64.720000               8.843333      22.643478          1.876087   \n",
       "6           67.930000               7.663333      23.625000          1.896739   \n",
       "\n",
       "   Humid_mean_bulk  Sunshine_mean_bulk  \n",
       "0        72.175000            7.372826  \n",
       "1        80.275000            5.506522  \n",
       "2        78.377174            6.232609  \n",
       "3        81.836957            6.556522  \n",
       "4        87.235870            6.398913  \n",
       "5        80.552174            6.270236  \n",
       "6        82.252174            6.280435  "
      ]
     },
     "execution_count": 5,
     "metadata": {},
     "output_type": "execute_result"
    }
   ],
   "source": [
    "df"
   ]
  },
  {
   "cell_type": "code",
   "execution_count": 6,
   "id": "be4b9329",
   "metadata": {},
   "outputs": [
    {
     "name": "stdout",
     "output_type": "stream",
     "text": [
      "                  모델     RMSE      MAE  R2 Score  MAPE\n",
      "0  Linear Regression  1678.75  1650.64    0.3393  8.63\n",
      "1      Decision Tree   699.11   693.53    0.8854  3.65\n",
      "2      Random Forest  1172.32   982.79    0.6778  4.87\n",
      "3            XGBoost  1312.38  1292.50    0.5962  6.76\n"
     ]
    }
   ],
   "source": [
    "from sklearn.model_selection import train_test_split\n",
    "from sklearn.metrics import mean_squared_error, mean_absolute_error, r2_score, mean_absolute_percentage_error\n",
    "import numpy as np\n",
    "import pandas as pd\n",
    "\n",
    "target = '노지온주(조생)'\n",
    "features = ['Tem_mean_enlarge','Tem_mean_bulk']\n",
    "\n",
    "X = df[features]\n",
    "y = df[target]\n",
    "\n",
    "# 랜덤 분할 (80% train, 20% test)\n",
    "X_train, X_test, y_train, y_test = train_test_split(\n",
    "    X, y, test_size=0.2, random_state=42, shuffle=True\n",
    ")\n",
    "\n",
    "results = []\n",
    "for name, model in models.items():\n",
    "    model.fit(X_train, y_train)\n",
    "    y_pred = model.predict(X_test)\n",
    "\n",
    "    rmse = np.sqrt(mean_squared_error(y_test, y_pred))\n",
    "    mae = mean_absolute_error(y_test, y_pred)\n",
    "    r2 = r2_score(y_test, y_pred)\n",
    "    mape = mean_absolute_percentage_error(y_test, y_pred) * 100\n",
    "\n",
    "    results.append({\n",
    "        \"모델\": name,\n",
    "        \"RMSE\": round(rmse, 2),\n",
    "        \"MAE\": round(mae, 2),\n",
    "        \"R2 Score\": round(r2, 4),\n",
    "        \"MAPE\": round(mape, 2)\n",
    "    })\n",
    "\n",
    "result_df = pd.DataFrame(results)\n",
    "print(result_df)\n"
   ]
  },
  {
   "cell_type": "code",
   "execution_count": 7,
   "id": "b7211071",
   "metadata": {},
   "outputs": [
    {
     "name": "stderr",
     "output_type": "stream",
     "text": [
      "C:\\Users\\hansung\\AppData\\Local\\Temp\\ipykernel_7824\\2543646997.py:13: FutureWarning: \n",
      "\n",
      "Passing `palette` without assigning `hue` is deprecated and will be removed in v0.14.0. Assign the `y` variable to `hue` and set `legend=False` for the same effect.\n",
      "\n",
      "  ax = sns.barplot(data=fi_df, x='Importance', y='Feature', palette='viridis')\n"
     ]
    },
    {
     "data": {
      "image/png": "[encoded data removed]",
      "text/plain": [
       "<Figure size 1000x600 with 1 Axes>"
      ]
     },
     "metadata": {},
     "output_type": "display_data"
    },
    {
     "data": {
      "text/html": [
       "<div>\n",
       "<style scoped>\n",
       "    .dataframe tbody tr th:only-of-type {\n",
       "        vertical-align: middle;\n",
       "    }\n",
       "\n",
       "    .dataframe tbody tr th {\n",
       "        vertical-align: top;\n",
       "    }\n",
       "\n",
       "    .dataframe thead th {\n",
       "        text-align: right;\n",
       "    }\n",
       "</style>\n",
       "<table border=\"1\" class=\"dataframe\">\n",
       "  <thead>\n",
       "    <tr style=\"text-align: right;\">\n",
       "      <th></th>\n",
       "      <th>Feature</th>\n",
       "      <th>Importance</th>\n",
       "    </tr>\n",
       "  </thead>\n",
       "  <tbody>\n",
       "    <tr>\n",
       "      <th>0</th>\n",
       "      <td>Tem_mean_enlarge</td>\n",
       "      <td>0.984234</td>\n",
       "    </tr>\n",
       "    <tr>\n",
       "      <th>1</th>\n",
       "      <td>Tem_mean_bulk</td>\n",
       "      <td>0.015766</td>\n",
       "    </tr>\n",
       "  </tbody>\n",
       "</table>\n",
       "</div>"
      ],
      "text/plain": [
       "            Feature  Importance\n",
       "0  Tem_mean_enlarge    0.984234\n",
       "1     Tem_mean_bulk    0.015766"
      ]
     },
     "execution_count": 7,
     "metadata": {},
     "output_type": "execute_result"
    }
   ],
   "source": [
    "target_model = models['Decision Tree']\n",
    "\n",
    "importances = target_model.feature_importances_\n",
    "feature_names = X_train.columns\n",
    "\n",
    "fi_df = pd.DataFrame({'Feature': feature_names, 'Importance': importances})\n",
    "fi_df = fi_df.sort_values(by='Importance', ascending=False)\n",
    "\n",
    "import matplotlib.pyplot as plt\n",
    "import seaborn as sns\n",
    "\n",
    "plt.figure(figsize=(10,6))\n",
    "ax = sns.barplot(data=fi_df, x='Importance', y='Feature', palette='viridis')\n",
    "plt.title(\"Decision Tree Feature Importance\")\n",
    "\n",
    "# 각 막대 위에 값 표시\n",
    "for p in ax.patches:\n",
    "    width = p.get_width()\n",
    "    ax.text(width + 0.001, p.get_y() + p.get_height()/2, f'{width:.3f}',\n",
    "            va='center', fontsize=9, color='black')\n",
    "\n",
    "plt.tight_layout()\n",
    "plt.show()\n",
    "\n",
    "fi_df  # 변수 중요도 데이터프레임 출력"
   ]
  },
  {
   "cell_type": "code",
   "execution_count": null,
   "id": "c00069c3",
   "metadata": {},
   "outputs": [
    {
     "name": "stderr",
     "output_type": "stream",
     "text": [
      "C:\\Users\\hansung\\AppData\\Local\\Temp\\ipykernel_7824\\3702834481.py:13: FutureWarning: \n",
      "\n",
      "Passing `palette` without assigning `hue` is deprecated and will be removed in v0.14.0. Assign the `y` variable to `hue` and set `legend=False` for the same effect.\n",
      "\n",
      "  ax = sns.barplot(data=fi_df, x='Importance', y='Feature', palette='viridis')\n"
     ]
    },
    {
     "data": {
      "image/png": "[encoded data removed]",
      "text/plain": [
       "<Figure size 1000x600 with 1 Axes>"
      ]
     },
     "metadata": {},
     "output_type": "display_data"
    },
    {
     "data": {
      "text/html": [
       "<div>\n",
       "<style scoped>\n",
       "    .dataframe tbody tr th:only-of-type {\n",
       "        vertical-align: middle;\n",
       "    }\n",
       "\n",
       "    .dataframe tbody tr th {\n",
       "        vertical-align: top;\n",
       "    }\n",
       "\n",
       "    .dataframe thead th {\n",
       "        text-align: right;\n",
       "    }\n",
       "</style>\n",
       "<table border=\"1\" class=\"dataframe\">\n",
       "  <thead>\n",
       "    <tr style=\"text-align: right;\">\n",
       "      <th></th>\n",
       "      <th>Feature</th>\n",
       "      <th>Importance</th>\n",
       "    </tr>\n",
       "  </thead>\n",
       "  <tbody>\n",
       "    <tr>\n",
       "      <th>1</th>\n",
       "      <td>Tem_mean_bulk</td>\n",
       "      <td>0.574036</td>\n",
       "    </tr>\n",
       "    <tr>\n",
       "      <th>0</th>\n",
       "      <td>Tem_mean_enlarge</td>\n",
       "      <td>0.425964</td>\n",
       "    </tr>\n",
       "  </tbody>\n",
       "</table>\n",
       "</div>"
      ],
      "text/plain": [
       "            Feature  Importance\n",
       "1     Tem_mean_bulk    0.574036\n",
       "0  Tem_mean_enlarge    0.425964"
      ]
     },
     "execution_count": 8,
     "metadata": {},
     "output_type": "execute_result"
    }
   ],
   "source": [
    "target_model = models['Random Forest'] \n",
    "\n",
    "importances = target_model.feature_importances_\n",
    "feature_names = X_train.columns\n",
    "\n",
    "fi_df = pd.DataFrame({'Feature': feature_names, 'Importance': importances})\n",
    "fi_df = fi_df.sort_values(by='Importance', ascending=False)\n",
    "\n",
    "import matplotlib.pyplot as plt\n",
    "import seaborn as sns\n",
    "\n",
    "plt.figure(figsize=(10,6))\n",
    "ax = sns.barplot(data=fi_df, x='Importance', y='Feature', palette='viridis')\n",
    "plt.title(\"Random Forest Feature Importance\")\n",
    "\n",
    "# 각 막대 위에 값 표시\n",
    "for p in ax.patches:\n",
    "    width = p.get_width()\n",
    "    ax.text(width + 0.001, p.get_y() + p.get_height()/2, f'{width:.3f}',\n",
    "            va='center', fontsize=9, color='black')\n",
    "\n",
    "plt.tight_layout()\n",
    "plt.show()\n",
    "\n",
    "fi_df"
   ]
  },
  {
   "cell_type": "code",
   "execution_count": 9,
   "id": "0107282e",
   "metadata": {},
   "outputs": [
    {
     "name": "stderr",
     "output_type": "stream",
     "text": [
      "C:\\Users\\hansung\\AppData\\Local\\Temp\\ipykernel_7824\\1517169688.py:13: FutureWarning: \n",
      "\n",
      "Passing `palette` without assigning `hue` is deprecated and will be removed in v0.14.0. Assign the `y` variable to `hue` and set `legend=False` for the same effect.\n",
      "\n",
      "  ax = sns.barplot(data=fi_df, x='Importance', y='Feature', palette='viridis')\n"
     ]
    },
    {
     "data": {
      "image/png": "[encoded data removed]",
      "text/plain": [
       "<Figure size 1000x600 with 1 Axes>"
      ]
     },
     "metadata": {},
     "output_type": "display_data"
    },
    {
     "data": {
      "text/html": [
       "<div>\n",
       "<style scoped>\n",
       "    .dataframe tbody tr th:only-of-type {\n",
       "        vertical-align: middle;\n",
       "    }\n",
       "\n",
       "    .dataframe tbody tr th {\n",
       "        vertical-align: top;\n",
       "    }\n",
       "\n",
       "    .dataframe thead th {\n",
       "        text-align: right;\n",
       "    }\n",
       "</style>\n",
       "<table border=\"1\" class=\"dataframe\">\n",
       "  <thead>\n",
       "    <tr style=\"text-align: right;\">\n",
       "      <th></th>\n",
       "      <th>Feature</th>\n",
       "      <th>Importance</th>\n",
       "    </tr>\n",
       "  </thead>\n",
       "  <tbody>\n",
       "    <tr>\n",
       "      <th>0</th>\n",
       "      <td>Tem_mean_enlarge</td>\n",
       "      <td>0.60568</td>\n",
       "    </tr>\n",
       "    <tr>\n",
       "      <th>1</th>\n",
       "      <td>Tem_mean_bulk</td>\n",
       "      <td>0.39432</td>\n",
       "    </tr>\n",
       "  </tbody>\n",
       "</table>\n",
       "</div>"
      ],
      "text/plain": [
       "            Feature  Importance\n",
       "0  Tem_mean_enlarge     0.60568\n",
       "1     Tem_mean_bulk     0.39432"
      ]
     },
     "execution_count": 9,
     "metadata": {},
     "output_type": "execute_result"
    }
   ],
   "source": [
    "target_model = models['XGBoost'] \n",
    "\n",
    "importances = target_model.feature_importances_\n",
    "feature_names = X_train.columns\n",
    "\n",
    "fi_df = pd.DataFrame({'Feature': feature_names, 'Importance': importances})\n",
    "fi_df = fi_df.sort_values(by='Importance', ascending=False)\n",
    "\n",
    "import matplotlib.pyplot as plt\n",
    "import seaborn as sns\n",
    "\n",
    "plt.figure(figsize=(10,6))\n",
    "ax = sns.barplot(data=fi_df, x='Importance', y='Feature', palette='viridis')\n",
    "plt.title(\"Random Forest Feature Importance\")\n",
    "\n",
    "# 각 막대 위에 값 표시\n",
    "for p in ax.patches:\n",
    "    width = p.get_width()\n",
    "    ax.text(width + 0.001, p.get_y() + p.get_height()/2, f'{width:.3f}',\n",
    "            va='center', fontsize=9, color='black')\n",
    "\n",
    "plt.tight_layout()\n",
    "plt.show()\n",
    "\n",
    "fi_df  # 변수 중요도 데이터프레임 출력"
   ]
  }
 ],
 "metadata": {
  "kernelspec": {
   "display_name": "Python 3",
   "language": "python",
   "name": "python3"
  },
  "language_info": {
   "codemirror_mode": {
    "name": "ipython",
    "version": 3
   },
   "file_extension": ".py",
   "mimetype": "text/x-python",
   "name": "python",
   "nbconvert_exporter": "python",
   "pygments_lexer": "ipython3",
   "version": "3.9.21"
  }
 },
 "nbformat": 4,
 "nbformat_minor": 5
}
